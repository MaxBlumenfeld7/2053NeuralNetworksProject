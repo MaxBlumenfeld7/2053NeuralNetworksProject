{
 "cells": [
  {
   "cell_type": "code",
   "execution_count": 12,
   "metadata": {},
   "outputs": [],
   "source": [
    "#imports \n",
    "import pandas as pd\n",
    "import numpy as np\n",
    "import tensorflow as tf\n",
    "from tensorflow import keras\n",
    "from tensorflow.keras import layers\n",
    "from sklearn.model_selection import train_test_split\n",
    "from sklearn.preprocessing import LabelEncoder, StandardScaler\n",
    "import matplotlib.pyplot as plt\n",
    "import seaborn as sns\n",
    "#print('imports finished')"
   ]
  },
  {
   "cell_type": "code",
   "execution_count": 14,
   "metadata": {},
   "outputs": [],
   "source": [
    "#read in data and preprocess it\n",
    "df = pd.read_csv(\"Cancer_Data.csv\")\n",
    "df = df.drop('id',axis = 1)\n",
    "\n",
    "#remove column of NaN that was tacked onto the end for some reason\n",
    "df=df.dropna(axis=1,how='all')\n",
    "\n",
    "#encodes data into numerical values\n",
    "encoder = LabelEncoder()\n",
    "df['diagnosis'] = encoder.fit_transform(df['diagnosis'])\n",
    "\n",
    "#x and y data\n",
    "y = df['diagnosis']\n",
    "X = df.drop('diagnosis', axis = 1)\n",
    "\n",
    "#scale data\n",
    "scaler = StandardScaler()\n",
    "X = scaler.fit_transform(X)\n",
    "\n",
    "#train test split\n",
    "X_train, X_test, y_train, y_test = train_test_split(X, y, test_size=0.2, random_state=42)\n",
    "\n",
    "\n"
   ]
  },
  {
   "cell_type": "code",
   "execution_count": 21,
   "metadata": {},
   "outputs": [
    {
     "name": "stdout",
     "output_type": "stream",
     "text": [
      "Epoch 1/25\n",
      "15/15 [==============================] - 1s 3ms/step - loss: 0.3108\n",
      "Epoch 2/25\n",
      "15/15 [==============================] - 0s 3ms/step - loss: 0.2212\n",
      "Epoch 3/25\n",
      "15/15 [==============================] - 0s 3ms/step - loss: 0.1930\n",
      "Epoch 4/25\n",
      "15/15 [==============================] - 0s 3ms/step - loss: 0.1612\n",
      "Epoch 5/25\n",
      "15/15 [==============================] - 0s 3ms/step - loss: 0.1514\n",
      "Epoch 6/25\n",
      "15/15 [==============================] - 0s 3ms/step - loss: 0.1377\n",
      "Epoch 7/25\n",
      "15/15 [==============================] - 0s 6ms/step - loss: 0.1303\n",
      "Epoch 8/25\n",
      "15/15 [==============================] - 0s 5ms/step - loss: 0.1277\n",
      "Epoch 9/25\n",
      "15/15 [==============================] - 0s 4ms/step - loss: 0.1123\n",
      "Epoch 10/25\n",
      "15/15 [==============================] - 0s 4ms/step - loss: 0.1105\n",
      "Epoch 11/25\n",
      "15/15 [==============================] - 0s 4ms/step - loss: 0.1028\n",
      "Epoch 12/25\n",
      "15/15 [==============================] - 0s 5ms/step - loss: 0.1039\n",
      "Epoch 13/25\n",
      "15/15 [==============================] - 0s 4ms/step - loss: 0.0936\n",
      "Epoch 14/25\n",
      "15/15 [==============================] - 0s 3ms/step - loss: 0.0978\n",
      "Epoch 15/25\n",
      "15/15 [==============================] - 0s 3ms/step - loss: 0.0940\n",
      "Epoch 16/25\n",
      "15/15 [==============================] - 0s 4ms/step - loss: 0.0864\n",
      "Epoch 17/25\n",
      "15/15 [==============================] - 0s 3ms/step - loss: 0.0903\n",
      "Epoch 18/25\n",
      "15/15 [==============================] - 0s 3ms/step - loss: 0.0820\n",
      "Epoch 19/25\n",
      "15/15 [==============================] - 0s 4ms/step - loss: 0.0850\n",
      "Epoch 20/25\n",
      "15/15 [==============================] - 0s 3ms/step - loss: 0.0867\n",
      "Epoch 21/25\n",
      "15/15 [==============================] - 0s 3ms/step - loss: 0.0751\n",
      "Epoch 22/25\n",
      "15/15 [==============================] - 0s 3ms/step - loss: 0.0776\n",
      "Epoch 23/25\n",
      "15/15 [==============================] - 0s 3ms/step - loss: 0.0743\n",
      "Epoch 24/25\n",
      "15/15 [==============================] - 0s 3ms/step - loss: 0.0744\n",
      "Epoch 25/25\n",
      "15/15 [==============================] - 0s 2ms/step - loss: 0.0658\n",
      "4/4 [==============================] - 0s 2ms/step\n",
      "4/4 [==============================] - 0s 3ms/step - loss: 0.1428\n"
     ]
    },
    {
     "data": {
      "text/plain": [
       "0.14284633100032806"
      ]
     },
     "execution_count": 21,
     "metadata": {},
     "output_type": "execute_result"
    }
   ],
   "source": [
    "model = keras.Sequential([\n",
    "      layers.Dense(64, activation='relu'),\n",
    "      layers.Dense(64, activation='relu'),\n",
    "      layers.Dense(1)\n",
    "  ])\n",
    "model.compile(loss='mean_absolute_error', optimizer=tf.keras.optimizers.Adam(0.001))\n",
    "\n",
    "model.fit(X_train,y_train, epochs = 25, )\n",
    "\n",
    "y_pred = model.predict(X_test)\n",
    "\n",
    "model.evaluate(X_test, y_test)\n"
   ]
  }
 ],
 "metadata": {
  "kernelspec": {
   "display_name": "CSC2053",
   "language": "python",
   "name": "python3"
  },
  "language_info": {
   "codemirror_mode": {
    "name": "ipython",
    "version": 3
   },
   "file_extension": ".py",
   "mimetype": "text/x-python",
   "name": "python",
   "nbconvert_exporter": "python",
   "pygments_lexer": "ipython3",
   "version": "3.10.10"
  },
  "orig_nbformat": 4
 },
 "nbformat": 4,
 "nbformat_minor": 2
}
