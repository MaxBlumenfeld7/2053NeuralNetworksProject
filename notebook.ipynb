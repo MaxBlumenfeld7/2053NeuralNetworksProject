{
 "cells": [
  {
   "cell_type": "markdown",
   "metadata": {},
   "source": [
    "# Imports"
   ]
  },
  {
   "cell_type": "code",
   "execution_count": 57,
   "metadata": {},
   "outputs": [],
   "source": [
    "#imports \n",
    "#this cell will cause errors if every module is not installed on the environment on which one is trying to run the code.\n",
    "import pandas as pd\n",
    "import numpy as np\n",
    "import tensorflow as tf\n",
    "from tensorflow import keras\n",
    "from tensorflow.keras import layers\n",
    "from sklearn.model_selection import train_test_split\n",
    "from sklearn.preprocessing import LabelEncoder, StandardScaler\n",
    "import matplotlib.pyplot as plt\n",
    "import seaborn as sns\n",
    "from sklearn.linear_model import Perceptron\n",
    "\n",
    "\n",
    "\n"
   ]
  },
  {
   "cell_type": "markdown",
   "metadata": {},
   "source": [
    "# Data Input and Preprocessing"
   ]
  },
  {
   "cell_type": "code",
   "execution_count": 58,
   "metadata": {},
   "outputs": [],
   "source": [
    "#read in data and preprocess it\n",
    "df = pd.read_csv(\"Cancer_Data.csv\")\n",
    "df = df.drop('id',axis = 1)\n",
    "\n",
    "#remove column of NaN that was tacked onto the end for some reason\n",
    "df=df.dropna(axis=1,how='all')\n",
    "\n",
    "#encodes data into numerical values\n",
    "encoder = LabelEncoder()\n",
    "df['diagnosis'] = encoder.fit_transform(df['diagnosis'])\n",
    "\n",
    "#x and y data\n",
    "y = df['diagnosis']\n",
    "X = df.drop('diagnosis', axis = 1)\n",
    "\n",
    "#scale data\n",
    "scaler = StandardScaler()\n",
    "X = scaler.fit_transform(X)\n",
    "\n",
    "#train test split\n",
    "X_train, X_test, y_train, y_test = train_test_split(X, y, test_size=0.2, random_state=42)\n",
    "\n",
    "\n"
   ]
  },
  {
   "cell_type": "markdown",
   "metadata": {},
   "source": [
    "# Perceptron Model"
   ]
  },
  {
   "cell_type": "markdown",
   "metadata": {},
   "source": [
    "Create and fit perceptron model"
   ]
  },
  {
   "cell_type": "code",
   "execution_count": 59,
   "metadata": {},
   "outputs": [
    {
     "data": {
      "text/html": [
       "<style>#sk-container-id-7 {color: black;background-color: white;}#sk-container-id-7 pre{padding: 0;}#sk-container-id-7 div.sk-toggleable {background-color: white;}#sk-container-id-7 label.sk-toggleable__label {cursor: pointer;display: block;width: 100%;margin-bottom: 0;padding: 0.3em;box-sizing: border-box;text-align: center;}#sk-container-id-7 label.sk-toggleable__label-arrow:before {content: \"▸\";float: left;margin-right: 0.25em;color: #696969;}#sk-container-id-7 label.sk-toggleable__label-arrow:hover:before {color: black;}#sk-container-id-7 div.sk-estimator:hover label.sk-toggleable__label-arrow:before {color: black;}#sk-container-id-7 div.sk-toggleable__content {max-height: 0;max-width: 0;overflow: hidden;text-align: left;background-color: #f0f8ff;}#sk-container-id-7 div.sk-toggleable__content pre {margin: 0.2em;color: black;border-radius: 0.25em;background-color: #f0f8ff;}#sk-container-id-7 input.sk-toggleable__control:checked~div.sk-toggleable__content {max-height: 200px;max-width: 100%;overflow: auto;}#sk-container-id-7 input.sk-toggleable__control:checked~label.sk-toggleable__label-arrow:before {content: \"▾\";}#sk-container-id-7 div.sk-estimator input.sk-toggleable__control:checked~label.sk-toggleable__label {background-color: #d4ebff;}#sk-container-id-7 div.sk-label input.sk-toggleable__control:checked~label.sk-toggleable__label {background-color: #d4ebff;}#sk-container-id-7 input.sk-hidden--visually {border: 0;clip: rect(1px 1px 1px 1px);clip: rect(1px, 1px, 1px, 1px);height: 1px;margin: -1px;overflow: hidden;padding: 0;position: absolute;width: 1px;}#sk-container-id-7 div.sk-estimator {font-family: monospace;background-color: #f0f8ff;border: 1px dotted black;border-radius: 0.25em;box-sizing: border-box;margin-bottom: 0.5em;}#sk-container-id-7 div.sk-estimator:hover {background-color: #d4ebff;}#sk-container-id-7 div.sk-parallel-item::after {content: \"\";width: 100%;border-bottom: 1px solid gray;flex-grow: 1;}#sk-container-id-7 div.sk-label:hover label.sk-toggleable__label {background-color: #d4ebff;}#sk-container-id-7 div.sk-serial::before {content: \"\";position: absolute;border-left: 1px solid gray;box-sizing: border-box;top: 0;bottom: 0;left: 50%;z-index: 0;}#sk-container-id-7 div.sk-serial {display: flex;flex-direction: column;align-items: center;background-color: white;padding-right: 0.2em;padding-left: 0.2em;position: relative;}#sk-container-id-7 div.sk-item {position: relative;z-index: 1;}#sk-container-id-7 div.sk-parallel {display: flex;align-items: stretch;justify-content: center;background-color: white;position: relative;}#sk-container-id-7 div.sk-item::before, #sk-container-id-7 div.sk-parallel-item::before {content: \"\";position: absolute;border-left: 1px solid gray;box-sizing: border-box;top: 0;bottom: 0;left: 50%;z-index: -1;}#sk-container-id-7 div.sk-parallel-item {display: flex;flex-direction: column;z-index: 1;position: relative;background-color: white;}#sk-container-id-7 div.sk-parallel-item:first-child::after {align-self: flex-end;width: 50%;}#sk-container-id-7 div.sk-parallel-item:last-child::after {align-self: flex-start;width: 50%;}#sk-container-id-7 div.sk-parallel-item:only-child::after {width: 0;}#sk-container-id-7 div.sk-dashed-wrapped {border: 1px dashed gray;margin: 0 0.4em 0.5em 0.4em;box-sizing: border-box;padding-bottom: 0.4em;background-color: white;}#sk-container-id-7 div.sk-label label {font-family: monospace;font-weight: bold;display: inline-block;line-height: 1.2em;}#sk-container-id-7 div.sk-label-container {text-align: center;}#sk-container-id-7 div.sk-container {/* jupyter's `normalize.less` sets `[hidden] { display: none; }` but bootstrap.min.css set `[hidden] { display: none !important; }` so we also need the `!important` here to be able to override the default hidden behavior on the sphinx rendered scikit-learn.org. See: https://github.com/scikit-learn/scikit-learn/issues/21755 */display: inline-block !important;position: relative;}#sk-container-id-7 div.sk-text-repr-fallback {display: none;}</style><div id=\"sk-container-id-7\" class=\"sk-top-container\"><div class=\"sk-text-repr-fallback\"><pre>Perceptron(random_state=42)</pre><b>In a Jupyter environment, please rerun this cell to show the HTML representation or trust the notebook. <br />On GitHub, the HTML representation is unable to render, please try loading this page with nbviewer.org.</b></div><div class=\"sk-container\" hidden><div class=\"sk-item\"><div class=\"sk-estimator sk-toggleable\"><input class=\"sk-toggleable__control sk-hidden--visually\" id=\"sk-estimator-id-7\" type=\"checkbox\" checked><label for=\"sk-estimator-id-7\" class=\"sk-toggleable__label sk-toggleable__label-arrow\">Perceptron</label><div class=\"sk-toggleable__content\"><pre>Perceptron(random_state=42)</pre></div></div></div></div></div>"
      ],
      "text/plain": [
       "Perceptron(random_state=42)"
      ]
     },
     "execution_count": 59,
     "metadata": {},
     "output_type": "execute_result"
    }
   ],
   "source": [
    "#create the model\n",
    "per_model = Perceptron(max_iter=1000, tol=1e-3, random_state=42)\n",
    "#fit the model\n",
    "per_model.fit(X_train, y_train)\n"
   ]
  },
  {
   "cell_type": "markdown",
   "metadata": {},
   "source": [
    "make predictions"
   ]
  },
  {
   "cell_type": "code",
   "execution_count": 60,
   "metadata": {},
   "outputs": [],
   "source": [
    "\n",
    "#make predictions\n",
    "y_pred_perceptrons = per_model.predict(X_test)"
   ]
  },
  {
   "cell_type": "markdown",
   "metadata": {},
   "source": [
    "# Sequential Deep Neural Network"
   ]
  },
  {
   "cell_type": "markdown",
   "metadata": {},
   "source": [
    "Build, train, and compile model"
   ]
  },
  {
   "cell_type": "code",
   "execution_count": 61,
   "metadata": {},
   "outputs": [
    {
     "data": {
      "text/plain": [
       "<keras.callbacks.History at 0x168e2af7220>"
      ]
     },
     "execution_count": 61,
     "metadata": {},
     "output_type": "execute_result"
    }
   ],
   "source": [
    "\n",
    "#build model\n",
    "dnn_model = keras.Sequential([\n",
    "    \n",
    "    #input layer layer\n",
    "    layers.Dense(96, activation='relu'),\n",
    "\n",
    "    #first hidden layer\n",
    "    layers.Dense(96, activation = 'sigmoid'),\n",
    "    \n",
    "    #second hidden layer\n",
    "    layers.Dense(96, activation = 'sigmoid'),\n",
    "\n",
    "    #output layer\n",
    "    layers.Dense(1, activation = 'sigmoid'),\n",
    "\n",
    "\n",
    "  ])\n",
    "\n",
    "\n",
    "\n",
    "#compile model\n",
    "dnn_model.compile(loss='binary_crossentropy', optimizer=tf.keras.optimizers.Adam(0.001))\n",
    "\n",
    "#train model\n",
    "dnn_model.fit(X_train,y_train, epochs = 100, verbose = 0)\n"
   ]
  },
  {
   "cell_type": "markdown",
   "metadata": {},
   "source": [
    "Make predictions"
   ]
  },
  {
   "cell_type": "code",
   "execution_count": 62,
   "metadata": {},
   "outputs": [
    {
     "name": "stdout",
     "output_type": "stream",
     "text": [
      "4/4 [==============================] - 0s 2ms/step\n"
     ]
    }
   ],
   "source": [
    "#predict values of test data. this will generate a decimal value between 0 and one\n",
    "#most are very very close to 0 or one, but not all of them\n",
    "y_pred_dnn = dnn_model.predict(X_test)\n",
    "#because this is a binary classification problem, we use this function to round values to 0 or 1\n",
    "y_pred_dnn_binary = [round(prediction[0]) for prediction in y_pred_dnn]\n"
   ]
  },
  {
   "cell_type": "markdown",
   "metadata": {},
   "source": [
    "# Evaluate Models "
   ]
  },
  {
   "cell_type": "code",
   "execution_count": 63,
   "metadata": {},
   "outputs": [],
   "source": [
    "#more imports. once again, error will be thrown if all modules are not installed\n",
    "from sklearn.metrics import mean_squared_error\n",
    "from sklearn.metrics import confusion_matrix\n",
    "from sklearn.metrics import accuracy_score\n",
    "from sklearn.metrics import recall_score\n",
    "from sklearn.metrics import precision_score\n",
    "from sklearn.metrics import f1_score\n",
    "\n",
    "#method for getting some information about model performance\n",
    "def get_scores(y_test,y_pred):\n",
    "    scores = {}\n",
    "    scores['Accuracy'] = accuracy_score(y_test,y_pred)#proportion of predictions that are correct\n",
    "    scores['Recall'] = recall_score(y_test,y_pred)#proportion of true positives to positive predictions. true positive values/(correct positive predictions + false negative predictions)\n",
    "    scores['Precision'] = precision_score(y_test,y_pred)#proportion of positive predictions that are correct. correct positive predictions / correct positive predictions + false positive predictions\n",
    "    scores['F1'] = f1_score(y_test,y_pred)# harmonic mean of precision and recall scores\n",
    "    \n",
    "    return scores\n",
    "\n",
    "#method for getting values of a confusion matrix. just another way to get information about model performance\n",
    "def get_confusion(y_test, y_pred):\n",
    "    confusion_vals = {}\n",
    "\n",
    "    confusion_mat = confusion_matrix(y_test,y_pred)\n",
    "\n",
    "    confusion_vals['True Positive'] = confusion_mat[0][0]\n",
    "    confusion_vals['False Positive'] = confusion_mat[0][1]\n",
    "    confusion_vals['False Negative'] = confusion_mat[1][0]\n",
    "    confusion_vals['True Negative'] = confusion_mat[1][1]\n",
    "\n",
    "    return confusion_vals\n",
    "\n",
    "\n"
   ]
  },
  {
   "cell_type": "markdown",
   "metadata": {},
   "source": [
    "# Comparisons of Models with Graphs"
   ]
  },
  {
   "cell_type": "code",
   "execution_count": 64,
   "metadata": {},
   "outputs": [
    {
     "data": {
      "image/png": "[encoded data removed]",
      "text/plain": [
       "<Figure size 640x480 with 1 Axes>"
      ]
     },
     "metadata": {},
     "output_type": "display_data"
    }
   ],
   "source": [
    "#graph accuracy, recall, precision,and F1 scores\n",
    "X = ['Accuracy', 'Recall', 'Precision', 'F1']\n",
    "results_dnn = get_scores(y_test,y_pred_dnn_binary)\n",
    "results_perceptron = get_scores(y_test,y_pred_perceptrons)\n",
    "Ydnn = results_dnn.values()\n",
    "Zperceptron = results_perceptron.values()\n",
    "plt.ylim(0.94,1.0)\n",
    "X_axis = np.arange(len(X))\n",
    "plt.bar(X_axis - 0.2, Ydnn, 0.4, label = 'dnn model')\n",
    "plt.bar(X_axis + 0.2, Zperceptron, 0.4, label = 'perceptron model')\n",
    "plt.xticks(X_axis, X)\n",
    "plt.xlabel('Scores')\n",
    "plt.ylabel('Amount')\n",
    "plt.title('Scores of Different Models')\n",
    "plt.legend()\n",
    "plt.show()\n",
    "\n"
   ]
  },
  {
   "cell_type": "code",
   "execution_count": 65,
   "metadata": {},
   "outputs": [
    {
     "data": {
      "image/png": "[encoded data removed]",
      "text/plain": [
       "<Figure size 640x480 with 1 Axes>"
      ]
     },
     "metadata": {},
     "output_type": "display_data"
    }
   ],
   "source": [
    "#graph confusion scores\n",
    "X = ['True Positive', 'False Positive', 'False Negative', 'True Negative']\n",
    "results_dnn = get_confusion(y_test,y_pred_dnn_binary)\n",
    "results_perceptron = get_confusion(y_test,y_pred_perceptrons)\n",
    "Ydnn = results_dnn.values()\n",
    "Zperceptron = results_perceptron.values()\n",
    "X_axis = np.arange(len(X))\n",
    "plt.bar(X_axis - 0.2, Ydnn, 0.4, label = 'dnn model')\n",
    "plt.bar(X_axis + 0.2, Zperceptron, 0.4, label = 'perceptron model')\n",
    "plt.xticks(X_axis, X)\n",
    "plt.xlabel('Confusion Values')\n",
    "plt.ylabel('Amount')\n",
    "plt.title('Confusion Values of Different Models')\n",
    "plt.legend()\n",
    "plt.show()\n",
    "\n"
   ]
  },
  {
   "cell_type": "code",
   "execution_count": null,
   "metadata": {},
   "outputs": [],
   "source": []
  }
 ],
 "metadata": {
  "kernelspec": {
   "display_name": "Python 3 (ipykernel)",
   "language": "python",
   "name": "python3"
  },
  "language_info": {
   "codemirror_mode": {
    "name": "ipython",
    "version": 3
   },
   "file_extension": ".py",
   "mimetype": "text/x-python",
   "name": "python",
   "nbconvert_exporter": "python",
   "pygments_lexer": "ipython3",
   "version": "3.10.10"
  }
 },
 "nbformat": 4,
 "nbformat_minor": 2
}
